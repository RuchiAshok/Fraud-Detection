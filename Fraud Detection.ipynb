{
 "cells": [
  {
   "cell_type": "markdown",
   "id": "35c186c2",
   "metadata": {},
   "source": [
    "# Importing Libraries"
   ]
  },
  {
   "cell_type": "code",
   "execution_count": 117,
   "id": "39486ff3",
   "metadata": {},
   "outputs": [],
   "source": [
    "import numpy as np\n",
    "import pandas as pd\n",
    "import matplotlib.pyplot as plt\n",
    "import seaborn as sns"
   ]
  },
  {
   "cell_type": "markdown",
   "id": "619abe07",
   "metadata": {},
   "source": [
    "# Reading our dataset"
   ]
  },
  {
   "cell_type": "code",
   "execution_count": 118,
   "id": "23e28e5c",
   "metadata": {},
   "outputs": [],
   "source": [
    "#Importing our dataset from \"https://www.kaggle.com/kartik2112/fraud-detection-on-paysim-dataset/data\"\n",
    "#Creating the dataframe\n",
    "df=pd.read_csv('dataset.csv')"
   ]
  },
  {
   "cell_type": "code",
   "execution_count": 119,
   "id": "47b7dbe0",
   "metadata": {},
   "outputs": [
    {
     "data": {
      "text/plain": [
       "(6362620, 11)"
      ]
     },
     "execution_count": 119,
     "metadata": {},
     "output_type": "execute_result"
    }
   ],
   "source": [
    "df.shape"
   ]
  },
  {
   "cell_type": "code",
   "execution_count": 120,
   "id": "ce6ca456",
   "metadata": {},
   "outputs": [
    {
     "name": "stdout",
     "output_type": "stream",
     "text": [
      "<class 'pandas.core.frame.DataFrame'>\n",
      "RangeIndex: 6362620 entries, 0 to 6362619\n",
      "Data columns (total 11 columns):\n",
      " #   Column          Dtype  \n",
      "---  ------          -----  \n",
      " 0   step            int64  \n",
      " 1   type            object \n",
      " 2   amount          float64\n",
      " 3   nameOrig        object \n",
      " 4   oldbalanceOrg   float64\n",
      " 5   newbalanceOrig  float64\n",
      " 6   nameDest        object \n",
      " 7   oldbalanceDest  float64\n",
      " 8   newbalanceDest  float64\n",
      " 9   isFraud         int64  \n",
      " 10  isFlaggedFraud  int64  \n",
      "dtypes: float64(5), int64(3), object(3)\n",
      "memory usage: 534.0+ MB\n"
     ]
    }
   ],
   "source": [
    "#displaying the information of dataset\n",
    "df.info()"
   ]
  },
  {
   "cell_type": "code",
   "execution_count": 121,
   "id": "5fe2d274",
   "metadata": {},
   "outputs": [
    {
     "data": {
      "text/html": [
       "<div>\n",
       "<style scoped>\n",
       "    .dataframe tbody tr th:only-of-type {\n",
       "        vertical-align: middle;\n",
       "    }\n",
       "\n",
       "    .dataframe tbody tr th {\n",
       "        vertical-align: top;\n",
       "    }\n",
       "\n",
       "    .dataframe thead th {\n",
       "        text-align: right;\n",
       "    }\n",
       "</style>\n",
       "<table border=\"1\" class=\"dataframe\">\n",
       "  <thead>\n",
       "    <tr style=\"text-align: right;\">\n",
       "      <th></th>\n",
       "      <th>step</th>\n",
       "      <th>amount</th>\n",
       "      <th>oldbalanceOrg</th>\n",
       "      <th>newbalanceOrig</th>\n",
       "      <th>oldbalanceDest</th>\n",
       "      <th>newbalanceDest</th>\n",
       "      <th>isFraud</th>\n",
       "      <th>isFlaggedFraud</th>\n",
       "    </tr>\n",
       "  </thead>\n",
       "  <tbody>\n",
       "    <tr>\n",
       "      <th>count</th>\n",
       "      <td>6.362620e+06</td>\n",
       "      <td>6.362620e+06</td>\n",
       "      <td>6.362620e+06</td>\n",
       "      <td>6.362620e+06</td>\n",
       "      <td>6.362620e+06</td>\n",
       "      <td>6.362620e+06</td>\n",
       "      <td>6.362620e+06</td>\n",
       "      <td>6.362620e+06</td>\n",
       "    </tr>\n",
       "    <tr>\n",
       "      <th>mean</th>\n",
       "      <td>2.433972e+02</td>\n",
       "      <td>1.798619e+05</td>\n",
       "      <td>8.338831e+05</td>\n",
       "      <td>8.551137e+05</td>\n",
       "      <td>1.100702e+06</td>\n",
       "      <td>1.224996e+06</td>\n",
       "      <td>1.290820e-03</td>\n",
       "      <td>2.514687e-06</td>\n",
       "    </tr>\n",
       "    <tr>\n",
       "      <th>std</th>\n",
       "      <td>1.423320e+02</td>\n",
       "      <td>6.038582e+05</td>\n",
       "      <td>2.888243e+06</td>\n",
       "      <td>2.924049e+06</td>\n",
       "      <td>3.399180e+06</td>\n",
       "      <td>3.674129e+06</td>\n",
       "      <td>3.590480e-02</td>\n",
       "      <td>1.585775e-03</td>\n",
       "    </tr>\n",
       "    <tr>\n",
       "      <th>min</th>\n",
       "      <td>1.000000e+00</td>\n",
       "      <td>0.000000e+00</td>\n",
       "      <td>0.000000e+00</td>\n",
       "      <td>0.000000e+00</td>\n",
       "      <td>0.000000e+00</td>\n",
       "      <td>0.000000e+00</td>\n",
       "      <td>0.000000e+00</td>\n",
       "      <td>0.000000e+00</td>\n",
       "    </tr>\n",
       "    <tr>\n",
       "      <th>25%</th>\n",
       "      <td>1.560000e+02</td>\n",
       "      <td>1.338957e+04</td>\n",
       "      <td>0.000000e+00</td>\n",
       "      <td>0.000000e+00</td>\n",
       "      <td>0.000000e+00</td>\n",
       "      <td>0.000000e+00</td>\n",
       "      <td>0.000000e+00</td>\n",
       "      <td>0.000000e+00</td>\n",
       "    </tr>\n",
       "    <tr>\n",
       "      <th>50%</th>\n",
       "      <td>2.390000e+02</td>\n",
       "      <td>7.487194e+04</td>\n",
       "      <td>1.420800e+04</td>\n",
       "      <td>0.000000e+00</td>\n",
       "      <td>1.327057e+05</td>\n",
       "      <td>2.146614e+05</td>\n",
       "      <td>0.000000e+00</td>\n",
       "      <td>0.000000e+00</td>\n",
       "    </tr>\n",
       "    <tr>\n",
       "      <th>75%</th>\n",
       "      <td>3.350000e+02</td>\n",
       "      <td>2.087215e+05</td>\n",
       "      <td>1.073152e+05</td>\n",
       "      <td>1.442584e+05</td>\n",
       "      <td>9.430367e+05</td>\n",
       "      <td>1.111909e+06</td>\n",
       "      <td>0.000000e+00</td>\n",
       "      <td>0.000000e+00</td>\n",
       "    </tr>\n",
       "    <tr>\n",
       "      <th>max</th>\n",
       "      <td>7.430000e+02</td>\n",
       "      <td>9.244552e+07</td>\n",
       "      <td>5.958504e+07</td>\n",
       "      <td>4.958504e+07</td>\n",
       "      <td>3.560159e+08</td>\n",
       "      <td>3.561793e+08</td>\n",
       "      <td>1.000000e+00</td>\n",
       "      <td>1.000000e+00</td>\n",
       "    </tr>\n",
       "  </tbody>\n",
       "</table>\n",
       "</div>"
      ],
      "text/plain": [
       "               step        amount  oldbalanceOrg  newbalanceOrig  \\\n",
       "count  6.362620e+06  6.362620e+06   6.362620e+06    6.362620e+06   \n",
       "mean   2.433972e+02  1.798619e+05   8.338831e+05    8.551137e+05   \n",
       "std    1.423320e+02  6.038582e+05   2.888243e+06    2.924049e+06   \n",
       "min    1.000000e+00  0.000000e+00   0.000000e+00    0.000000e+00   \n",
       "25%    1.560000e+02  1.338957e+04   0.000000e+00    0.000000e+00   \n",
       "50%    2.390000e+02  7.487194e+04   1.420800e+04    0.000000e+00   \n",
       "75%    3.350000e+02  2.087215e+05   1.073152e+05    1.442584e+05   \n",
       "max    7.430000e+02  9.244552e+07   5.958504e+07    4.958504e+07   \n",
       "\n",
       "       oldbalanceDest  newbalanceDest       isFraud  isFlaggedFraud  \n",
       "count    6.362620e+06    6.362620e+06  6.362620e+06    6.362620e+06  \n",
       "mean     1.100702e+06    1.224996e+06  1.290820e-03    2.514687e-06  \n",
       "std      3.399180e+06    3.674129e+06  3.590480e-02    1.585775e-03  \n",
       "min      0.000000e+00    0.000000e+00  0.000000e+00    0.000000e+00  \n",
       "25%      0.000000e+00    0.000000e+00  0.000000e+00    0.000000e+00  \n",
       "50%      1.327057e+05    2.146614e+05  0.000000e+00    0.000000e+00  \n",
       "75%      9.430367e+05    1.111909e+06  0.000000e+00    0.000000e+00  \n",
       "max      3.560159e+08    3.561793e+08  1.000000e+00    1.000000e+00  "
      ]
     },
     "execution_count": 121,
     "metadata": {},
     "output_type": "execute_result"
    }
   ],
   "source": [
    "df.describe()"
   ]
  },
  {
   "cell_type": "code",
   "execution_count": 122,
   "id": "12cb5bc2",
   "metadata": {},
   "outputs": [
    {
     "data": {
      "text/html": [
       "<div>\n",
       "<style scoped>\n",
       "    .dataframe tbody tr th:only-of-type {\n",
       "        vertical-align: middle;\n",
       "    }\n",
       "\n",
       "    .dataframe tbody tr th {\n",
       "        vertical-align: top;\n",
       "    }\n",
       "\n",
       "    .dataframe thead th {\n",
       "        text-align: right;\n",
       "    }\n",
       "</style>\n",
       "<table border=\"1\" class=\"dataframe\">\n",
       "  <thead>\n",
       "    <tr style=\"text-align: right;\">\n",
       "      <th></th>\n",
       "      <th>step</th>\n",
       "      <th>type</th>\n",
       "      <th>amount</th>\n",
       "      <th>nameOrig</th>\n",
       "      <th>oldbalanceOrg</th>\n",
       "      <th>newbalanceOrig</th>\n",
       "      <th>nameDest</th>\n",
       "      <th>oldbalanceDest</th>\n",
       "      <th>newbalanceDest</th>\n",
       "      <th>isFraud</th>\n",
       "      <th>isFlaggedFraud</th>\n",
       "    </tr>\n",
       "  </thead>\n",
       "  <tbody>\n",
       "    <tr>\n",
       "      <th>0</th>\n",
       "      <td>1</td>\n",
       "      <td>PAYMENT</td>\n",
       "      <td>9839.64</td>\n",
       "      <td>C1231006815</td>\n",
       "      <td>170136.00</td>\n",
       "      <td>160296.36</td>\n",
       "      <td>M1979787155</td>\n",
       "      <td>0.0</td>\n",
       "      <td>0.00</td>\n",
       "      <td>0</td>\n",
       "      <td>0</td>\n",
       "    </tr>\n",
       "    <tr>\n",
       "      <th>1</th>\n",
       "      <td>1</td>\n",
       "      <td>PAYMENT</td>\n",
       "      <td>1864.28</td>\n",
       "      <td>C1666544295</td>\n",
       "      <td>21249.00</td>\n",
       "      <td>19384.72</td>\n",
       "      <td>M2044282225</td>\n",
       "      <td>0.0</td>\n",
       "      <td>0.00</td>\n",
       "      <td>0</td>\n",
       "      <td>0</td>\n",
       "    </tr>\n",
       "    <tr>\n",
       "      <th>2</th>\n",
       "      <td>1</td>\n",
       "      <td>TRANSFER</td>\n",
       "      <td>181.00</td>\n",
       "      <td>C1305486145</td>\n",
       "      <td>181.00</td>\n",
       "      <td>0.00</td>\n",
       "      <td>C553264065</td>\n",
       "      <td>0.0</td>\n",
       "      <td>0.00</td>\n",
       "      <td>1</td>\n",
       "      <td>0</td>\n",
       "    </tr>\n",
       "    <tr>\n",
       "      <th>3</th>\n",
       "      <td>1</td>\n",
       "      <td>CASH_OUT</td>\n",
       "      <td>181.00</td>\n",
       "      <td>C840083671</td>\n",
       "      <td>181.00</td>\n",
       "      <td>0.00</td>\n",
       "      <td>C38997010</td>\n",
       "      <td>21182.0</td>\n",
       "      <td>0.00</td>\n",
       "      <td>1</td>\n",
       "      <td>0</td>\n",
       "    </tr>\n",
       "    <tr>\n",
       "      <th>4</th>\n",
       "      <td>1</td>\n",
       "      <td>PAYMENT</td>\n",
       "      <td>11668.14</td>\n",
       "      <td>C2048537720</td>\n",
       "      <td>41554.00</td>\n",
       "      <td>29885.86</td>\n",
       "      <td>M1230701703</td>\n",
       "      <td>0.0</td>\n",
       "      <td>0.00</td>\n",
       "      <td>0</td>\n",
       "      <td>0</td>\n",
       "    </tr>\n",
       "    <tr>\n",
       "      <th>5</th>\n",
       "      <td>1</td>\n",
       "      <td>PAYMENT</td>\n",
       "      <td>7817.71</td>\n",
       "      <td>C90045638</td>\n",
       "      <td>53860.00</td>\n",
       "      <td>46042.29</td>\n",
       "      <td>M573487274</td>\n",
       "      <td>0.0</td>\n",
       "      <td>0.00</td>\n",
       "      <td>0</td>\n",
       "      <td>0</td>\n",
       "    </tr>\n",
       "    <tr>\n",
       "      <th>6</th>\n",
       "      <td>1</td>\n",
       "      <td>PAYMENT</td>\n",
       "      <td>7107.77</td>\n",
       "      <td>C154988899</td>\n",
       "      <td>183195.00</td>\n",
       "      <td>176087.23</td>\n",
       "      <td>M408069119</td>\n",
       "      <td>0.0</td>\n",
       "      <td>0.00</td>\n",
       "      <td>0</td>\n",
       "      <td>0</td>\n",
       "    </tr>\n",
       "    <tr>\n",
       "      <th>7</th>\n",
       "      <td>1</td>\n",
       "      <td>PAYMENT</td>\n",
       "      <td>7861.64</td>\n",
       "      <td>C1912850431</td>\n",
       "      <td>176087.23</td>\n",
       "      <td>168225.59</td>\n",
       "      <td>M633326333</td>\n",
       "      <td>0.0</td>\n",
       "      <td>0.00</td>\n",
       "      <td>0</td>\n",
       "      <td>0</td>\n",
       "    </tr>\n",
       "    <tr>\n",
       "      <th>8</th>\n",
       "      <td>1</td>\n",
       "      <td>PAYMENT</td>\n",
       "      <td>4024.36</td>\n",
       "      <td>C1265012928</td>\n",
       "      <td>2671.00</td>\n",
       "      <td>0.00</td>\n",
       "      <td>M1176932104</td>\n",
       "      <td>0.0</td>\n",
       "      <td>0.00</td>\n",
       "      <td>0</td>\n",
       "      <td>0</td>\n",
       "    </tr>\n",
       "    <tr>\n",
       "      <th>9</th>\n",
       "      <td>1</td>\n",
       "      <td>DEBIT</td>\n",
       "      <td>5337.77</td>\n",
       "      <td>C712410124</td>\n",
       "      <td>41720.00</td>\n",
       "      <td>36382.23</td>\n",
       "      <td>C195600860</td>\n",
       "      <td>41898.0</td>\n",
       "      <td>40348.79</td>\n",
       "      <td>0</td>\n",
       "      <td>0</td>\n",
       "    </tr>\n",
       "  </tbody>\n",
       "</table>\n",
       "</div>"
      ],
      "text/plain": [
       "   step      type    amount     nameOrig  oldbalanceOrg  newbalanceOrig  \\\n",
       "0     1   PAYMENT   9839.64  C1231006815      170136.00       160296.36   \n",
       "1     1   PAYMENT   1864.28  C1666544295       21249.00        19384.72   \n",
       "2     1  TRANSFER    181.00  C1305486145         181.00            0.00   \n",
       "3     1  CASH_OUT    181.00   C840083671         181.00            0.00   \n",
       "4     1   PAYMENT  11668.14  C2048537720       41554.00        29885.86   \n",
       "5     1   PAYMENT   7817.71    C90045638       53860.00        46042.29   \n",
       "6     1   PAYMENT   7107.77   C154988899      183195.00       176087.23   \n",
       "7     1   PAYMENT   7861.64  C1912850431      176087.23       168225.59   \n",
       "8     1   PAYMENT   4024.36  C1265012928        2671.00            0.00   \n",
       "9     1     DEBIT   5337.77   C712410124       41720.00        36382.23   \n",
       "\n",
       "      nameDest  oldbalanceDest  newbalanceDest  isFraud  isFlaggedFraud  \n",
       "0  M1979787155             0.0            0.00        0               0  \n",
       "1  M2044282225             0.0            0.00        0               0  \n",
       "2   C553264065             0.0            0.00        1               0  \n",
       "3    C38997010         21182.0            0.00        1               0  \n",
       "4  M1230701703             0.0            0.00        0               0  \n",
       "5   M573487274             0.0            0.00        0               0  \n",
       "6   M408069119             0.0            0.00        0               0  \n",
       "7   M633326333             0.0            0.00        0               0  \n",
       "8  M1176932104             0.0            0.00        0               0  \n",
       "9   C195600860         41898.0        40348.79        0               0  "
      ]
     },
     "execution_count": 122,
     "metadata": {},
     "output_type": "execute_result"
    }
   ],
   "source": [
    "# displaying the first 10 records of our dataset\n",
    "df.head(10)"
   ]
  },
  {
   "cell_type": "markdown",
   "id": "39f8052f",
   "metadata": {},
   "source": [
    "# EDA"
   ]
  },
  {
   "cell_type": "code",
   "execution_count": 123,
   "id": "cc1ddc6e",
   "metadata": {},
   "outputs": [
    {
     "data": {
      "text/plain": [
       "<AxesSubplot:>"
      ]
     },
     "execution_count": 123,
     "metadata": {},
     "output_type": "execute_result"
    },
    {
     "data": {
      "image/png": "[encoded data removed]",
      "text/plain": [
       "<Figure size 432x288 with 2 Axes>"
      ]
     },
     "metadata": {
      "needs_background": "light"
     },
     "output_type": "display_data"
    }
   ],
   "source": [
    "#displaying the heat-map of correlation among each columns\n",
    "sns.heatmap(df.corr())"
   ]
  },
  {
   "cell_type": "code",
   "execution_count": 124,
   "id": "48199fdb",
   "metadata": {},
   "outputs": [
    {
     "data": {
      "text/plain": [
       "<AxesSubplot:>"
      ]
     },
     "execution_count": 124,
     "metadata": {},
     "output_type": "execute_result"
    },
    {
     "data": {
      "image/png": "[encoded data removed]",
      "text/plain": [
       "<Figure size 432x288 with 2 Axes>"
      ]
     },
     "metadata": {
      "needs_background": "light"
     },
     "output_type": "display_data"
    }
   ],
   "source": [
    "#checking whether there is any null value or not aand displaying the respective heatmap\n",
    "sns.heatmap(df.isnull())"
   ]
  },
  {
   "cell_type": "code",
   "execution_count": 125,
   "id": "e9d0d2d0",
   "metadata": {},
   "outputs": [
    {
     "data": {
      "text/plain": [
       "False"
      ]
     },
     "execution_count": 125,
     "metadata": {},
     "output_type": "execute_result"
    }
   ],
   "source": [
    "df.isnull().values.any()"
   ]
  },
  {
   "cell_type": "code",
   "execution_count": 126,
   "id": "27e1b873",
   "metadata": {},
   "outputs": [
    {
     "data": {
      "text/plain": [
       "step              0\n",
       "type              0\n",
       "amount            0\n",
       "nameOrig          0\n",
       "oldbalanceOrg     0\n",
       "newbalanceOrig    0\n",
       "nameDest          0\n",
       "oldbalanceDest    0\n",
       "newbalanceDest    0\n",
       "isFraud           0\n",
       "isFlaggedFraud    0\n",
       "dtype: int64"
      ]
     },
     "execution_count": 126,
     "metadata": {},
     "output_type": "execute_result"
    }
   ],
   "source": [
    "#Getting the total count of null values in each column of dataset\n",
    "df.isnull().sum()"
   ]
  },
  {
   "cell_type": "code",
   "execution_count": 127,
   "id": "83cb89c6",
   "metadata": {},
   "outputs": [
    {
     "data": {
      "text/plain": [
       "4097"
      ]
     },
     "execution_count": 127,
     "metadata": {},
     "output_type": "execute_result"
    }
   ],
   "source": [
    "#calculating number of fraud transfers\n",
    "dfFraudTransfer = df.loc[(df.isFraud == 1) & (df.type == 'TRANSFER')]\n",
    "len(dfFraudTransfer)"
   ]
  },
  {
   "cell_type": "code",
   "execution_count": 128,
   "id": "e5a604e9",
   "metadata": {},
   "outputs": [
    {
     "data": {
      "text/plain": [
       "4116"
      ]
     },
     "execution_count": 128,
     "metadata": {},
     "output_type": "execute_result"
    }
   ],
   "source": [
    "#calculating number of frauds in cash_out\n",
    "dfFraudCashout = df.loc[(df.isFraud == 1) & (df.type == 'CASH_OUT')] \n",
    "len(dfFraudCashout)"
   ]
  },
  {
   "cell_type": "code",
   "execution_count": 129,
   "id": "65a9ac7c",
   "metadata": {},
   "outputs": [
    {
     "data": {
      "text/plain": [
       "16"
      ]
     },
     "execution_count": 129,
     "metadata": {},
     "output_type": "execute_result"
    }
   ],
   "source": [
    "#calculating number of transfers which are greater than 2,00,000\n",
    "df[df['isFlaggedFraud']==1].count()['isFlaggedFraud']"
   ]
  },
  {
   "cell_type": "code",
   "execution_count": 130,
   "id": "87783839",
   "metadata": {},
   "outputs": [
    {
     "data": {
      "text/plain": [
       "92445516.64"
      ]
     },
     "execution_count": 130,
     "metadata": {},
     "output_type": "execute_result"
    }
   ],
   "source": [
    "#displaying maximum amount of non fraud user\n",
    "df[df['isFlaggedFraud']==0].max()['amount']"
   ]
  },
  {
   "cell_type": "code",
   "execution_count": 131,
   "id": "40d83ed0",
   "metadata": {},
   "outputs": [
    {
     "data": {
      "text/plain": [
       "353874.22"
      ]
     },
     "execution_count": 131,
     "metadata": {},
     "output_type": "execute_result"
    }
   ],
   "source": [
    "#drop it because wrong(since transfered amount is greater than 2,00,000 so flagged fraud)\n",
    "df[df['isFlaggedFraud']==1].min()['amount']"
   ]
  },
  {
   "cell_type": "code",
   "execution_count": 132,
   "id": "526a4d5a",
   "metadata": {},
   "outputs": [
    {
     "data": {
      "image/png": "[encoded data removed]",
      "text/plain": [
       "<Figure size 720x720 with 4 Axes>"
      ]
     },
     "metadata": {
      "needs_background": "light"
     },
     "output_type": "display_data"
    }
   ],
   "source": [
    "fig, axs = plt.subplots(2, 2, figsize=(10, 10))\n",
    "tmp = df.loc[(df.type == 'TRANSFER'), :]\n",
    "\n",
    "a = sns.boxplot(x = 'isFlaggedFraud', y='amount', data = tmp, ax=axs[0][0])\n",
    "axs[0][0].set_yscale('log')\n",
    "b = sns.boxplot(x = 'isFlaggedFraud', y='oldbalanceDest', data = tmp, ax=axs[0][1])\n",
    "axs[0][1].set(ylim=(0,0.5e8))\n",
    "c = sns.boxplot(x = 'isFlaggedFraud', y='oldbalanceOrg', data = tmp, ax=axs[1][0])\n",
    "axs[1][0].set(ylim=(0,0.3e7))\n",
    "d = sns.regplot(x = 'oldbalanceOrg', y='amount', data = tmp.loc[(tmp.isFlaggedFraud == 1), :], ax=axs[1][1])\n",
    "plt.show()"
   ]
  },
  {
   "cell_type": "code",
   "execution_count": 133,
   "id": "c1ba6824",
   "metadata": {},
   "outputs": [
    {
     "name": "stderr",
     "output_type": "stream",
     "text": [
      "c:\\users\\pujag\\appdata\\local\\programs\\python\\python39\\lib\\site-packages\\seaborn\\categorical.py:3717: UserWarning: The `factorplot` function has been renamed to `catplot`. The original name will be removed in a future release. Please update your code. Note that the default `kind` in `factorplot` (`'point'`) has changed `'strip'` in `catplot`.\n",
      "  warnings.warn(msg)\n",
      "c:\\users\\pujag\\appdata\\local\\programs\\python\\python39\\lib\\site-packages\\seaborn\\categorical.py:3723: UserWarning: The `size` parameter has been renamed to `height`; please update your code.\n",
      "  warnings.warn(msg, UserWarning)\n"
     ]
    },
    {
     "data": {
      "text/plain": [
       "<seaborn.axisgrid.FacetGrid at 0x2b53623f580>"
      ]
     },
     "execution_count": 133,
     "metadata": {},
     "output_type": "execute_result"
    },
    {
     "data": {
      "image/png": "[encoded data removed]",
      "text/plain": [
       "<Figure size 705.6x504 with 2 Axes>"
      ]
     },
     "metadata": {
      "needs_background": "light"
     },
     "output_type": "display_data"
    }
   ],
   "source": [
    "sns.factorplot(x=\"type\",col='isFraud',data = df,kind= 'count',size=7,aspect=.7)"
   ]
  },
  {
   "cell_type": "code",
   "execution_count": 134,
   "id": "10558efb",
   "metadata": {},
   "outputs": [
    {
     "name": "stdout",
     "output_type": "stream",
     "text": [
      "36.35618660237449\n",
      "0.06396735935825179\n"
     ]
    }
   ],
   "source": [
    "#counting total no. of enteries in 'is Fraud' column\n",
    "q=df.count()['isFraud']\n",
    "#Finding no.transactions where amount is not 0, both new and old balance destination is 0 but when it is not fraud\n",
    "p=len(df.loc[(df.oldbalanceDest == 0) & (df.newbalanceDest == 0) & (df.amount) & (df.isFraud == 0)])\n",
    "#calculating fractions of such above transactions\n",
    "print((p/q)*100)\n",
    "#Finding no.transactions where amount is not 0, both new and old balance destination is 0 but when it is not fraud\n",
    "r=len(df.loc[(df.oldbalanceDest == 0) & (df.newbalanceDest == 0) & (df.amount) & (df.isFraud == 1)])\n",
    "#calculating fractions of such above transactions\n",
    "print((r/q)*100)"
   ]
  },
  {
   "cell_type": "markdown",
   "id": "fa5fb399",
   "metadata": {},
   "source": [
    "# Data Cleaning"
   ]
  },
  {
   "cell_type": "code",
   "execution_count": 135,
   "id": "e973632d",
   "metadata": {},
   "outputs": [],
   "source": [
    "#We have analysed that fraud transaction exists only for 'TRANSFER' and 'CASH_OUT'\n",
    "#Creating a new dataset containing only transfer and cash-outs\n",
    "X= df.loc[(df['type'] == 'TRANSFER') | (df['type']== 'CASH_OUT') ]"
   ]
  },
  {
   "cell_type": "code",
   "execution_count": 136,
   "id": "5fe69084",
   "metadata": {},
   "outputs": [
    {
     "data": {
      "text/html": [
       "<div>\n",
       "<style scoped>\n",
       "    .dataframe tbody tr th:only-of-type {\n",
       "        vertical-align: middle;\n",
       "    }\n",
       "\n",
       "    .dataframe tbody tr th {\n",
       "        vertical-align: top;\n",
       "    }\n",
       "\n",
       "    .dataframe thead th {\n",
       "        text-align: right;\n",
       "    }\n",
       "</style>\n",
       "<table border=\"1\" class=\"dataframe\">\n",
       "  <thead>\n",
       "    <tr style=\"text-align: right;\">\n",
       "      <th></th>\n",
       "      <th>step</th>\n",
       "      <th>type</th>\n",
       "      <th>amount</th>\n",
       "      <th>nameOrig</th>\n",
       "      <th>oldbalanceOrg</th>\n",
       "      <th>newbalanceOrig</th>\n",
       "      <th>nameDest</th>\n",
       "      <th>oldbalanceDest</th>\n",
       "      <th>newbalanceDest</th>\n",
       "      <th>isFraud</th>\n",
       "      <th>isFlaggedFraud</th>\n",
       "    </tr>\n",
       "  </thead>\n",
       "  <tbody>\n",
       "    <tr>\n",
       "      <th>2</th>\n",
       "      <td>1</td>\n",
       "      <td>TRANSFER</td>\n",
       "      <td>181.00</td>\n",
       "      <td>C1305486145</td>\n",
       "      <td>181.0</td>\n",
       "      <td>0.0</td>\n",
       "      <td>C553264065</td>\n",
       "      <td>0.0</td>\n",
       "      <td>0.00</td>\n",
       "      <td>1</td>\n",
       "      <td>0</td>\n",
       "    </tr>\n",
       "    <tr>\n",
       "      <th>3</th>\n",
       "      <td>1</td>\n",
       "      <td>CASH_OUT</td>\n",
       "      <td>181.00</td>\n",
       "      <td>C840083671</td>\n",
       "      <td>181.0</td>\n",
       "      <td>0.0</td>\n",
       "      <td>C38997010</td>\n",
       "      <td>21182.0</td>\n",
       "      <td>0.00</td>\n",
       "      <td>1</td>\n",
       "      <td>0</td>\n",
       "    </tr>\n",
       "    <tr>\n",
       "      <th>15</th>\n",
       "      <td>1</td>\n",
       "      <td>CASH_OUT</td>\n",
       "      <td>229133.94</td>\n",
       "      <td>C905080434</td>\n",
       "      <td>15325.0</td>\n",
       "      <td>0.0</td>\n",
       "      <td>C476402209</td>\n",
       "      <td>5083.0</td>\n",
       "      <td>51513.44</td>\n",
       "      <td>0</td>\n",
       "      <td>0</td>\n",
       "    </tr>\n",
       "    <tr>\n",
       "      <th>19</th>\n",
       "      <td>1</td>\n",
       "      <td>TRANSFER</td>\n",
       "      <td>215310.30</td>\n",
       "      <td>C1670993182</td>\n",
       "      <td>705.0</td>\n",
       "      <td>0.0</td>\n",
       "      <td>C1100439041</td>\n",
       "      <td>22425.0</td>\n",
       "      <td>0.00</td>\n",
       "      <td>0</td>\n",
       "      <td>0</td>\n",
       "    </tr>\n",
       "    <tr>\n",
       "      <th>24</th>\n",
       "      <td>1</td>\n",
       "      <td>TRANSFER</td>\n",
       "      <td>311685.89</td>\n",
       "      <td>C1984094095</td>\n",
       "      <td>10835.0</td>\n",
       "      <td>0.0</td>\n",
       "      <td>C932583850</td>\n",
       "      <td>6267.0</td>\n",
       "      <td>2719172.89</td>\n",
       "      <td>0</td>\n",
       "      <td>0</td>\n",
       "    </tr>\n",
       "  </tbody>\n",
       "</table>\n",
       "</div>"
      ],
      "text/plain": [
       "    step      type     amount     nameOrig  oldbalanceOrg  newbalanceOrig  \\\n",
       "2      1  TRANSFER     181.00  C1305486145          181.0             0.0   \n",
       "3      1  CASH_OUT     181.00   C840083671          181.0             0.0   \n",
       "15     1  CASH_OUT  229133.94   C905080434        15325.0             0.0   \n",
       "19     1  TRANSFER  215310.30  C1670993182          705.0             0.0   \n",
       "24     1  TRANSFER  311685.89  C1984094095        10835.0             0.0   \n",
       "\n",
       "       nameDest  oldbalanceDest  newbalanceDest  isFraud  isFlaggedFraud  \n",
       "2    C553264065             0.0            0.00        1               0  \n",
       "3     C38997010         21182.0            0.00        1               0  \n",
       "15   C476402209          5083.0        51513.44        0               0  \n",
       "19  C1100439041         22425.0            0.00        0               0  \n",
       "24   C932583850          6267.0      2719172.89        0               0  "
      ]
     },
     "execution_count": 136,
     "metadata": {},
     "output_type": "execute_result"
    }
   ],
   "source": [
    "#displaying the first 5 data of x\n",
    "X.head()"
   ]
  },
  {
   "cell_type": "code",
   "execution_count": 137,
   "id": "c69b44d9",
   "metadata": {},
   "outputs": [
    {
     "name": "stderr",
     "output_type": "stream",
     "text": [
      "c:\\users\\pujag\\appdata\\local\\programs\\python\\python39\\lib\\site-packages\\pandas\\core\\frame.py:4901: SettingWithCopyWarning: \n",
      "A value is trying to be set on a copy of a slice from a DataFrame\n",
      "\n",
      "See the caveats in the documentation: https://pandas.pydata.org/pandas-docs/stable/user_guide/indexing.html#returning-a-view-versus-a-copy\n",
      "  return super().drop(\n"
     ]
    }
   ],
   "source": [
    "#Eliminate columns shown to be irrelevant for analysis in the EDA\n",
    "X.drop(['nameOrig','nameDest','isFlaggedFraud','step'],axis =1,inplace=True)"
   ]
  },
  {
   "cell_type": "code",
   "execution_count": 138,
   "id": "84d8b98f",
   "metadata": {},
   "outputs": [
    {
     "data": {
      "text/html": [
       "<div>\n",
       "<style scoped>\n",
       "    .dataframe tbody tr th:only-of-type {\n",
       "        vertical-align: middle;\n",
       "    }\n",
       "\n",
       "    .dataframe tbody tr th {\n",
       "        vertical-align: top;\n",
       "    }\n",
       "\n",
       "    .dataframe thead th {\n",
       "        text-align: right;\n",
       "    }\n",
       "</style>\n",
       "<table border=\"1\" class=\"dataframe\">\n",
       "  <thead>\n",
       "    <tr style=\"text-align: right;\">\n",
       "      <th></th>\n",
       "      <th>type</th>\n",
       "      <th>amount</th>\n",
       "      <th>oldbalanceOrg</th>\n",
       "      <th>newbalanceOrig</th>\n",
       "      <th>oldbalanceDest</th>\n",
       "      <th>newbalanceDest</th>\n",
       "      <th>isFraud</th>\n",
       "    </tr>\n",
       "  </thead>\n",
       "  <tbody>\n",
       "    <tr>\n",
       "      <th>2</th>\n",
       "      <td>TRANSFER</td>\n",
       "      <td>181.00</td>\n",
       "      <td>181.0</td>\n",
       "      <td>0.0</td>\n",
       "      <td>0.0</td>\n",
       "      <td>0.00</td>\n",
       "      <td>1</td>\n",
       "    </tr>\n",
       "    <tr>\n",
       "      <th>3</th>\n",
       "      <td>CASH_OUT</td>\n",
       "      <td>181.00</td>\n",
       "      <td>181.0</td>\n",
       "      <td>0.0</td>\n",
       "      <td>21182.0</td>\n",
       "      <td>0.00</td>\n",
       "      <td>1</td>\n",
       "    </tr>\n",
       "    <tr>\n",
       "      <th>15</th>\n",
       "      <td>CASH_OUT</td>\n",
       "      <td>229133.94</td>\n",
       "      <td>15325.0</td>\n",
       "      <td>0.0</td>\n",
       "      <td>5083.0</td>\n",
       "      <td>51513.44</td>\n",
       "      <td>0</td>\n",
       "    </tr>\n",
       "    <tr>\n",
       "      <th>19</th>\n",
       "      <td>TRANSFER</td>\n",
       "      <td>215310.30</td>\n",
       "      <td>705.0</td>\n",
       "      <td>0.0</td>\n",
       "      <td>22425.0</td>\n",
       "      <td>0.00</td>\n",
       "      <td>0</td>\n",
       "    </tr>\n",
       "    <tr>\n",
       "      <th>24</th>\n",
       "      <td>TRANSFER</td>\n",
       "      <td>311685.89</td>\n",
       "      <td>10835.0</td>\n",
       "      <td>0.0</td>\n",
       "      <td>6267.0</td>\n",
       "      <td>2719172.89</td>\n",
       "      <td>0</td>\n",
       "    </tr>\n",
       "  </tbody>\n",
       "</table>\n",
       "</div>"
      ],
      "text/plain": [
       "        type     amount  oldbalanceOrg  newbalanceOrig  oldbalanceDest  \\\n",
       "2   TRANSFER     181.00          181.0             0.0             0.0   \n",
       "3   CASH_OUT     181.00          181.0             0.0         21182.0   \n",
       "15  CASH_OUT  229133.94        15325.0             0.0          5083.0   \n",
       "19  TRANSFER  215310.30          705.0             0.0         22425.0   \n",
       "24  TRANSFER  311685.89        10835.0             0.0          6267.0   \n",
       "\n",
       "    newbalanceDest  isFraud  \n",
       "2             0.00        1  \n",
       "3             0.00        1  \n",
       "15        51513.44        0  \n",
       "19            0.00        0  \n",
       "24      2719172.89        0  "
      ]
     },
     "execution_count": 138,
     "metadata": {},
     "output_type": "execute_result"
    }
   ],
   "source": [
    "X.head()"
   ]
  },
  {
   "cell_type": "code",
   "execution_count": 139,
   "id": "580fb6d2",
   "metadata": {},
   "outputs": [
    {
     "data": {
      "text/plain": [
       "Index(['type', 'amount', 'oldbalanceOrg', 'newbalanceOrig', 'oldbalanceDest',\n",
       "       'newbalanceDest', 'isFraud'],\n",
       "      dtype='object')"
      ]
     },
     "execution_count": 139,
     "metadata": {},
     "output_type": "execute_result"
    }
   ],
   "source": [
    "X.columns"
   ]
  },
  {
   "cell_type": "code",
   "execution_count": 140,
   "id": "55a0e9cb",
   "metadata": {},
   "outputs": [],
   "source": [
    "#converting the categorical values into binary values for the column 'type'\n",
    "typee = pd.get_dummies(X['type'],drop_first= True)\n",
    "#storing the new dataset in 'NewData' after concatinating with the type column\n",
    "NewData = pd.concat([X,typee],axis = 1)\n",
    "# dropping the type column as we don't need the categorical values any more, rather the binary ones\n",
    "NewData.drop(['type'],inplace=True,axis=1)"
   ]
  },
  {
   "cell_type": "code",
   "execution_count": 141,
   "id": "596750cc",
   "metadata": {},
   "outputs": [
    {
     "data": {
      "text/html": [
       "<div>\n",
       "<style scoped>\n",
       "    .dataframe tbody tr th:only-of-type {\n",
       "        vertical-align: middle;\n",
       "    }\n",
       "\n",
       "    .dataframe tbody tr th {\n",
       "        vertical-align: top;\n",
       "    }\n",
       "\n",
       "    .dataframe thead th {\n",
       "        text-align: right;\n",
       "    }\n",
       "</style>\n",
       "<table border=\"1\" class=\"dataframe\">\n",
       "  <thead>\n",
       "    <tr style=\"text-align: right;\">\n",
       "      <th></th>\n",
       "      <th>amount</th>\n",
       "      <th>oldbalanceOrg</th>\n",
       "      <th>newbalanceOrig</th>\n",
       "      <th>oldbalanceDest</th>\n",
       "      <th>newbalanceDest</th>\n",
       "      <th>isFraud</th>\n",
       "      <th>TRANSFER</th>\n",
       "    </tr>\n",
       "  </thead>\n",
       "  <tbody>\n",
       "    <tr>\n",
       "      <th>2</th>\n",
       "      <td>181.00</td>\n",
       "      <td>181.0</td>\n",
       "      <td>0.0</td>\n",
       "      <td>0.0</td>\n",
       "      <td>0.00</td>\n",
       "      <td>1</td>\n",
       "      <td>1</td>\n",
       "    </tr>\n",
       "    <tr>\n",
       "      <th>3</th>\n",
       "      <td>181.00</td>\n",
       "      <td>181.0</td>\n",
       "      <td>0.0</td>\n",
       "      <td>21182.0</td>\n",
       "      <td>0.00</td>\n",
       "      <td>1</td>\n",
       "      <td>0</td>\n",
       "    </tr>\n",
       "    <tr>\n",
       "      <th>15</th>\n",
       "      <td>229133.94</td>\n",
       "      <td>15325.0</td>\n",
       "      <td>0.0</td>\n",
       "      <td>5083.0</td>\n",
       "      <td>51513.44</td>\n",
       "      <td>0</td>\n",
       "      <td>0</td>\n",
       "    </tr>\n",
       "    <tr>\n",
       "      <th>19</th>\n",
       "      <td>215310.30</td>\n",
       "      <td>705.0</td>\n",
       "      <td>0.0</td>\n",
       "      <td>22425.0</td>\n",
       "      <td>0.00</td>\n",
       "      <td>0</td>\n",
       "      <td>1</td>\n",
       "    </tr>\n",
       "    <tr>\n",
       "      <th>24</th>\n",
       "      <td>311685.89</td>\n",
       "      <td>10835.0</td>\n",
       "      <td>0.0</td>\n",
       "      <td>6267.0</td>\n",
       "      <td>2719172.89</td>\n",
       "      <td>0</td>\n",
       "      <td>1</td>\n",
       "    </tr>\n",
       "  </tbody>\n",
       "</table>\n",
       "</div>"
      ],
      "text/plain": [
       "       amount  oldbalanceOrg  newbalanceOrig  oldbalanceDest  newbalanceDest  \\\n",
       "2      181.00          181.0             0.0             0.0            0.00   \n",
       "3      181.00          181.0             0.0         21182.0            0.00   \n",
       "15  229133.94        15325.0             0.0          5083.0        51513.44   \n",
       "19  215310.30          705.0             0.0         22425.0            0.00   \n",
       "24  311685.89        10835.0             0.0          6267.0      2719172.89   \n",
       "\n",
       "    isFraud  TRANSFER  \n",
       "2         1         1  \n",
       "3         1         0  \n",
       "15        0         0  \n",
       "19        0         1  \n",
       "24        0         1  "
      ]
     },
     "execution_count": 141,
     "metadata": {},
     "output_type": "execute_result"
    }
   ],
   "source": [
    "NewData.head()"
   ]
  },
  {
   "cell_type": "code",
   "execution_count": 142,
   "id": "709c7e75",
   "metadata": {},
   "outputs": [
    {
     "data": {
      "text/plain": [
       "<AxesSubplot:>"
      ]
     },
     "execution_count": 142,
     "metadata": {},
     "output_type": "execute_result"
    },
    {
     "data": {
      "image/png": "[encoded data removed]",
      "text/plain": [
       "<Figure size 432x288 with 2 Axes>"
      ]
     },
     "metadata": {
      "needs_background": "light"
     },
     "output_type": "display_data"
    }
   ],
   "source": [
    "#displaying the heat map of correlation\n",
    "sns.heatmap(NewData.corr(),annot=True,cmap='viridis')"
   ]
  },
  {
   "cell_type": "markdown",
   "id": "dd278c10",
   "metadata": {},
   "source": [
    "# Under sampling"
   ]
  },
  {
   "cell_type": "code",
   "execution_count": 143,
   "id": "b86b405a",
   "metadata": {},
   "outputs": [
    {
     "data": {
      "text/plain": [
       "<AxesSubplot:xlabel='isFraud', ylabel='count'>"
      ]
     },
     "execution_count": 143,
     "metadata": {},
     "output_type": "execute_result"
    },
    {
     "data": {
      "image/png": "[encoded data removed]",
      "text/plain": [
       "<Figure size 432x288 with 1 Axes>"
      ]
     },
     "metadata": {
      "needs_background": "light"
     },
     "output_type": "display_data"
    }
   ],
   "source": [
    "# displaying the countplot\n",
    "sns.countplot(x='isFraud' ,data=NewData)"
   ]
  },
  {
   "cell_type": "code",
   "execution_count": 144,
   "id": "8a96a69a",
   "metadata": {},
   "outputs": [],
   "source": [
    "#from the countplot we observe that dataset is imbalanced\n",
    "#Hence we move on to balance the data\n",
    "#Calculating the number of fraud transactions in our new calculated dataset\n",
    "frauds =len(NewData[NewData['isFraud'] == 1])\n",
    "#Storing the corresponding to the fraud transaction indices\n",
    "fraud_indices = NewData[NewData.isFraud == 1].index\n",
    "#Storing the corresponding to the non fraud transaction indices\n",
    "non_fraud_indices = NewData[NewData.isFraud == 0].index"
   ]
  },
  {
   "cell_type": "code",
   "execution_count": 145,
   "id": "b501c76c",
   "metadata": {},
   "outputs": [
    {
     "data": {
      "text/plain": [
       "8213"
      ]
     },
     "execution_count": 145,
     "metadata": {},
     "output_type": "execute_result"
    }
   ],
   "source": [
    "#calculating the number of non fraud transcations\n",
    "non_frauds = len(NewData[NewData['isFraud'] == 0])\n",
    "#we randomly choose from non-fraud-indices , such that its number equals with no. of fraud ones\n",
    "np.random.seed(0)\n",
    "random_indices = np.random.choice(non_fraud_indices,frauds, replace=False)\n",
    "len(random_indices)"
   ]
  },
  {
   "cell_type": "code",
   "execution_count": 146,
   "id": "376a915c",
   "metadata": {},
   "outputs": [
    {
     "data": {
      "text/plain": [
       "16426"
      ]
     },
     "execution_count": 146,
     "metadata": {},
     "output_type": "execute_result"
    }
   ],
   "source": [
    "#random indices and fraud indices are concanated and we obtain the indices we require for our new balanced dataset\n",
    "under_sample_indices = np.concatenate([random_indices,fraud_indices],axis=0)\n",
    "len(under_sample_indices)"
   ]
  },
  {
   "cell_type": "code",
   "execution_count": 147,
   "id": "476b715a",
   "metadata": {},
   "outputs": [
    {
     "data": {
      "text/html": [
       "<div>\n",
       "<style scoped>\n",
       "    .dataframe tbody tr th:only-of-type {\n",
       "        vertical-align: middle;\n",
       "    }\n",
       "\n",
       "    .dataframe tbody tr th {\n",
       "        vertical-align: top;\n",
       "    }\n",
       "\n",
       "    .dataframe thead th {\n",
       "        text-align: right;\n",
       "    }\n",
       "</style>\n",
       "<table border=\"1\" class=\"dataframe\">\n",
       "  <thead>\n",
       "    <tr style=\"text-align: right;\">\n",
       "      <th></th>\n",
       "      <th>amount</th>\n",
       "      <th>oldbalanceOrg</th>\n",
       "      <th>newbalanceOrig</th>\n",
       "      <th>oldbalanceDest</th>\n",
       "      <th>newbalanceDest</th>\n",
       "      <th>isFraud</th>\n",
       "      <th>TRANSFER</th>\n",
       "    </tr>\n",
       "  </thead>\n",
       "  <tbody>\n",
       "    <tr>\n",
       "      <th>0</th>\n",
       "      <td>200978.67</td>\n",
       "      <td>6592.0</td>\n",
       "      <td>0.0</td>\n",
       "      <td>0.00</td>\n",
       "      <td>200978.67</td>\n",
       "      <td>0</td>\n",
       "      <td>0</td>\n",
       "    </tr>\n",
       "    <tr>\n",
       "      <th>1</th>\n",
       "      <td>133246.97</td>\n",
       "      <td>0.0</td>\n",
       "      <td>0.0</td>\n",
       "      <td>288141.15</td>\n",
       "      <td>421388.12</td>\n",
       "      <td>0</td>\n",
       "      <td>0</td>\n",
       "    </tr>\n",
       "    <tr>\n",
       "      <th>2</th>\n",
       "      <td>2875864.54</td>\n",
       "      <td>15011.0</td>\n",
       "      <td>0.0</td>\n",
       "      <td>0.00</td>\n",
       "      <td>2875864.54</td>\n",
       "      <td>0</td>\n",
       "      <td>1</td>\n",
       "    </tr>\n",
       "    <tr>\n",
       "      <th>3</th>\n",
       "      <td>293331.60</td>\n",
       "      <td>0.0</td>\n",
       "      <td>0.0</td>\n",
       "      <td>491315.07</td>\n",
       "      <td>784646.67</td>\n",
       "      <td>0</td>\n",
       "      <td>0</td>\n",
       "    </tr>\n",
       "    <tr>\n",
       "      <th>4</th>\n",
       "      <td>201668.50</td>\n",
       "      <td>0.0</td>\n",
       "      <td>0.0</td>\n",
       "      <td>2025944.19</td>\n",
       "      <td>2227612.69</td>\n",
       "      <td>0</td>\n",
       "      <td>0</td>\n",
       "    </tr>\n",
       "  </tbody>\n",
       "</table>\n",
       "</div>"
      ],
      "text/plain": [
       "       amount  oldbalanceOrg  newbalanceOrig  oldbalanceDest  newbalanceDest  \\\n",
       "0   200978.67         6592.0             0.0            0.00       200978.67   \n",
       "1   133246.97            0.0             0.0       288141.15       421388.12   \n",
       "2  2875864.54        15011.0             0.0            0.00      2875864.54   \n",
       "3   293331.60            0.0             0.0       491315.07       784646.67   \n",
       "4   201668.50            0.0             0.0      2025944.19      2227612.69   \n",
       "\n",
       "   isFraud  TRANSFER  \n",
       "0        0         0  \n",
       "1        0         0  \n",
       "2        0         1  \n",
       "3        0         0  \n",
       "4        0         0  "
      ]
     },
     "execution_count": 147,
     "metadata": {},
     "output_type": "execute_result"
    }
   ],
   "source": [
    "#Obtaining the new final balanced data-set using the indices obtained in the previous dataset\n",
    "under_sample = NewData.loc[under_sample_indices]\n",
    "under_sample.reset_index(inplace=True,drop=True)\n",
    "under_sample.head()"
   ]
  },
  {
   "cell_type": "code",
   "execution_count": 148,
   "id": "657e22f9",
   "metadata": {},
   "outputs": [
    {
     "data": {
      "text/plain": [
       "amount            8213\n",
       "oldbalanceOrg     8213\n",
       "newbalanceOrig    8213\n",
       "oldbalanceDest    8213\n",
       "newbalanceDest    8213\n",
       "isFraud           8213\n",
       "TRANSFER          8213\n",
       "dtype: int64"
      ]
     },
     "execution_count": 148,
     "metadata": {},
     "output_type": "execute_result"
    }
   ],
   "source": [
    "#calculating the number of non fraud transactions in under sampled dataset\n",
    "under_sample[under_sample['isFraud']==0].count()"
   ]
  },
  {
   "cell_type": "code",
   "execution_count": 149,
   "id": "5a6abbae",
   "metadata": {},
   "outputs": [
    {
     "data": {
      "text/plain": [
       "<AxesSubplot:xlabel='isFraud', ylabel='count'>"
      ]
     },
     "execution_count": 149,
     "metadata": {},
     "output_type": "execute_result"
    },
    {
     "data": {
      "image/png": "[encoded data removed]",
      "text/plain": [
       "<Figure size 432x288 with 1 Axes>"
      ]
     },
     "metadata": {
      "needs_background": "light"
     },
     "output_type": "display_data"
    }
   ],
   "source": [
    "#displaying the counplot\n",
    "sns.countplot(x='isFraud',data=under_sample)"
   ]
  },
  {
   "cell_type": "code",
   "execution_count": 150,
   "id": "03b2bee3",
   "metadata": {},
   "outputs": [],
   "source": [
    "#contrary to the previous counter plots both the frauds and the non-frauds cover equal area under the curves"
   ]
  },
  {
   "cell_type": "code",
   "execution_count": 151,
   "id": "187db033",
   "metadata": {},
   "outputs": [
    {
     "data": {
      "text/plain": [
       "<AxesSubplot:>"
      ]
     },
     "execution_count": 151,
     "metadata": {},
     "output_type": "execute_result"
    },
    {
     "data": {
      "image/png": "[encoded data removed]",
      "text/plain": [
       "<Figure size 432x288 with 2 Axes>"
      ]
     },
     "metadata": {
      "needs_background": "light"
     },
     "output_type": "display_data"
    }
   ],
   "source": [
    "#displaying the heatmap of correlation\n",
    "sns.heatmap(under_sample.corr(),annot=True)"
   ]
  },
  {
   "cell_type": "code",
   "execution_count": 152,
   "id": "4ccdccc9",
   "metadata": {},
   "outputs": [
    {
     "data": {
      "text/plain": [
       "<seaborn.axisgrid.JointGrid at 0x2b4c3eeffd0>"
      ]
     },
     "execution_count": 152,
     "metadata": {},
     "output_type": "execute_result"
    },
    {
     "data": {
      "image/png": "[encoded data removed]",
      "text/plain": [
       "<Figure size 432x432 with 3 Axes>"
      ]
     },
     "metadata": {
      "needs_background": "light"
     },
     "output_type": "display_data"
    }
   ],
   "source": [
    "#Joint-plot of'amount' vs. 'isFraud'\n",
    "sns.jointplot(x='amount',y='isFraud',data=under_sample)"
   ]
  },
  {
   "cell_type": "code",
   "execution_count": 153,
   "id": "78719d9a",
   "metadata": {},
   "outputs": [
    {
     "data": {
      "text/plain": [
       "<seaborn.axisgrid.FacetGrid at 0x2b4c6545d00>"
      ]
     },
     "execution_count": 153,
     "metadata": {},
     "output_type": "execute_result"
    },
    {
     "data": {
      "image/png": "[encoded data removed]",
      "text/plain": [
       "<Figure size 360x360 with 1 Axes>"
      ]
     },
     "metadata": {
      "needs_background": "light"
     },
     "output_type": "display_data"
    }
   ],
   "source": [
    "sns.lmplot(x='oldbalanceOrg',y='isFraud',data=under_sample)"
   ]
  },
  {
   "cell_type": "markdown",
   "id": "d671c56d",
   "metadata": {},
   "source": [
    "# Training Model "
   ]
  },
  {
   "cell_type": "code",
   "execution_count": 154,
   "id": "c1a2f107",
   "metadata": {},
   "outputs": [],
   "source": [
    "#choosing our dependent and independent variables,respectively\n",
    "y = under_sample['isFraud']\n",
    "x = under_sample[['amount','oldbalanceOrg','newbalanceOrig','oldbalanceDest',\n",
    "                 'newbalanceDest','TRANSFER']]"
   ]
  },
  {
   "cell_type": "code",
   "execution_count": 155,
   "id": "0da11b28",
   "metadata": {},
   "outputs": [],
   "source": [
    "from sklearn.model_selection import train_test_split"
   ]
  },
  {
   "cell_type": "code",
   "execution_count": 156,
   "id": "0f5a5727",
   "metadata": {},
   "outputs": [],
   "source": [
    "#Choosing training data to be 30% and rest as our testing data\n",
    "x_train, x_test, y_train, y_test = train_test_split(x, y, test_size=0.3, random_state=101)"
   ]
  },
  {
   "cell_type": "markdown",
   "id": "3e19f2b9",
   "metadata": {},
   "source": [
    "# Logistic Regression"
   ]
  },
  {
   "cell_type": "code",
   "execution_count": 157,
   "id": "33277852",
   "metadata": {},
   "outputs": [],
   "source": [
    "from sklearn.linear_model import LogisticRegression"
   ]
  },
  {
   "cell_type": "code",
   "execution_count": 158,
   "id": "0cb84fd1",
   "metadata": {},
   "outputs": [],
   "source": [
    "#creating object for Logistic regression\n",
    "lr_under = LogisticRegression()"
   ]
  },
  {
   "cell_type": "code",
   "execution_count": 159,
   "id": "4b47c4c4",
   "metadata": {},
   "outputs": [
    {
     "data": {
      "text/plain": [
       "LogisticRegression()"
      ]
     },
     "execution_count": 159,
     "metadata": {},
     "output_type": "execute_result"
    }
   ],
   "source": [
    "#providing datas to train the machine\n",
    "lr_under.fit(x_train,y_train)"
   ]
  },
  {
   "cell_type": "code",
   "execution_count": 160,
   "id": "05e0a100",
   "metadata": {},
   "outputs": [],
   "source": [
    "#storing the predicted values\n",
    "y_under_pred = lr_under.predict(x_test)"
   ]
  },
  {
   "cell_type": "code",
   "execution_count": 161,
   "id": "e4f27e57",
   "metadata": {},
   "outputs": [],
   "source": [
    "from sklearn.metrics import classification_report,confusion_matrix"
   ]
  },
  {
   "cell_type": "code",
   "execution_count": 162,
   "id": "e78b2633",
   "metadata": {},
   "outputs": [
    {
     "name": "stdout",
     "output_type": "stream",
     "text": [
      "              precision    recall  f1-score   support\n",
      "\n",
      "           0       0.97      0.88      0.92      2484\n",
      "           1       0.89      0.97      0.93      2444\n",
      "\n",
      "    accuracy                           0.93      4928\n",
      "   macro avg       0.93      0.93      0.93      4928\n",
      "weighted avg       0.93      0.93      0.93      4928\n",
      "\n"
     ]
    }
   ],
   "source": [
    "#printing the classification report\n",
    "print(classification_report(y_test,y_under_pred))"
   ]
  },
  {
   "cell_type": "code",
   "execution_count": 163,
   "id": "1011fff9",
   "metadata": {},
   "outputs": [],
   "source": [
    "#we find model accuracy to be 93%. Hence we can accept the model"
   ]
  },
  {
   "cell_type": "code",
   "execution_count": 164,
   "id": "913772e9",
   "metadata": {},
   "outputs": [
    {
     "name": "stdout",
     "output_type": "stream",
     "text": [
      "[[2189  295]\n",
      " [  72 2372]]\n"
     ]
    }
   ],
   "source": [
    "#printing the confusion matrix\n",
    "print(confusion_matrix(y_test,y_under_pred))"
   ]
  },
  {
   "cell_type": "code",
   "execution_count": 165,
   "id": "e100bc83",
   "metadata": {},
   "outputs": [
    {
     "data": {
      "text/plain": [
       "0.9182463831155323"
      ]
     },
     "execution_count": 165,
     "metadata": {},
     "output_type": "execute_result"
    }
   ],
   "source": [
    "#Cross-validation of our model\n",
    "from sklearn.model_selection import cross_val_score\n",
    "accuracies=cross_val_score(estimator=lr_under,X=x_train,y=y_train)\n",
    "accuracies.mean()"
   ]
  },
  {
   "cell_type": "code",
   "execution_count": 166,
   "id": "fad5bcfe",
   "metadata": {},
   "outputs": [],
   "source": [
    "from sklearn.metrics import roc_curve"
   ]
  },
  {
   "cell_type": "code",
   "execution_count": 167,
   "id": "b5dbbb1d",
   "metadata": {},
   "outputs": [],
   "source": [
    "fpr, tpr,_=roc_curve(y_under_pred,y_test,drop_intermediate=False)"
   ]
  },
  {
   "cell_type": "code",
   "execution_count": 168,
   "id": "ef40c7c4",
   "metadata": {},
   "outputs": [
    {
     "data": {
      "text/plain": [
       "<Figure size 432x288 with 0 Axes>"
      ]
     },
     "execution_count": 168,
     "metadata": {},
     "output_type": "execute_result"
    },
    {
     "data": {
      "text/plain": [
       "<Figure size 432x288 with 0 Axes>"
      ]
     },
     "metadata": {},
     "output_type": "display_data"
    }
   ],
   "source": [
    "plt.figure()"
   ]
  },
  {
   "cell_type": "code",
   "execution_count": 169,
   "id": "729addea",
   "metadata": {},
   "outputs": [
    {
     "data": {
      "image/png": "[encoded data removed]",
      "text/plain": [
       "<Figure size 432x288 with 1 Axes>"
      ]
     },
     "metadata": {
      "needs_background": "light"
     },
     "output_type": "display_data"
    }
   ],
   "source": [
    "#plotting the ROC curve\n",
    "plt.plot(fpr, tpr, color='red', lw=2, label='ROC Curve')\n",
    "\n",
    "##Random FPR and TPR\n",
    "plt.plot([0, 1], [0, 1], color='blue', lw=2, linestyle='--',label= 'Normal Curve')\n",
    "##Title and label\n",
    "plt.xlabel('False Positive')\n",
    "plt.ylabel('True Positive')\n",
    "plt.title('ROC Curve')\n",
    "plt.legend()\n",
    "plt.show()"
   ]
  },
  {
   "cell_type": "code",
   "execution_count": 170,
   "id": "6498bf31",
   "metadata": {},
   "outputs": [
    {
     "data": {
      "text/plain": [
       "0.9287722548613311"
      ]
     },
     "execution_count": 170,
     "metadata": {},
     "output_type": "execute_result"
    }
   ],
   "source": [
    "#Finding the area under ROC curve\n",
    "from sklearn import metrics\n",
    "metrics.auc(fpr, tpr)"
   ]
  },
  {
   "cell_type": "markdown",
   "id": "9769e0e9",
   "metadata": {},
   "source": [
    "# KNN Algorithm "
   ]
  },
  {
   "cell_type": "code",
   "execution_count": 171,
   "id": "63456c51",
   "metadata": {},
   "outputs": [],
   "source": [
    "from sklearn.preprocessing import StandardScaler "
   ]
  },
  {
   "cell_type": "code",
   "execution_count": 172,
   "id": "b9cd4884",
   "metadata": {},
   "outputs": [],
   "source": [
    "#creating standardscalar\n",
    "scalar = StandardScaler()"
   ]
  },
  {
   "cell_type": "code",
   "execution_count": 173,
   "id": "520dfa40",
   "metadata": {},
   "outputs": [
    {
     "data": {
      "text/plain": [
       "StandardScaler()"
      ]
     },
     "execution_count": 173,
     "metadata": {},
     "output_type": "execute_result"
    }
   ],
   "source": [
    "#scaling the dataset o make the mean 0 and standard deviation 1 \n",
    "scalar.fit(x)"
   ]
  },
  {
   "cell_type": "code",
   "execution_count": 174,
   "id": "92d45398",
   "metadata": {},
   "outputs": [],
   "source": [
    "scaled_features = scalar.transform(x)"
   ]
  },
  {
   "cell_type": "code",
   "execution_count": 175,
   "id": "64e50704",
   "metadata": {},
   "outputs": [],
   "source": [
    "#creating a new dataset after transforming the old data set \n",
    "df_feat = pd.DataFrame(scaled_features,columns = x.columns) "
   ]
  },
  {
   "cell_type": "code",
   "execution_count": 176,
   "id": "d0c58a13",
   "metadata": {},
   "outputs": [
    {
     "data": {
      "text/html": [
       "<div>\n",
       "<style scoped>\n",
       "    .dataframe tbody tr th:only-of-type {\n",
       "        vertical-align: middle;\n",
       "    }\n",
       "\n",
       "    .dataframe tbody tr th {\n",
       "        vertical-align: top;\n",
       "    }\n",
       "\n",
       "    .dataframe thead th {\n",
       "        text-align: right;\n",
       "    }\n",
       "</style>\n",
       "<table border=\"1\" class=\"dataframe\">\n",
       "  <thead>\n",
       "    <tr style=\"text-align: right;\">\n",
       "      <th></th>\n",
       "      <th>amount</th>\n",
       "      <th>oldbalanceOrg</th>\n",
       "      <th>newbalanceOrig</th>\n",
       "      <th>oldbalanceDest</th>\n",
       "      <th>newbalanceDest</th>\n",
       "      <th>TRANSFER</th>\n",
       "    </tr>\n",
       "  </thead>\n",
       "  <tbody>\n",
       "    <tr>\n",
       "      <th>0</th>\n",
       "      <td>-0.363990</td>\n",
       "      <td>-0.318615</td>\n",
       "      <td>-0.074574</td>\n",
       "      <td>-0.276949</td>\n",
       "      <td>-0.320205</td>\n",
       "      <td>-0.730062</td>\n",
       "    </tr>\n",
       "    <tr>\n",
       "      <th>1</th>\n",
       "      <td>-0.399606</td>\n",
       "      <td>-0.321117</td>\n",
       "      <td>-0.074574</td>\n",
       "      <td>-0.206708</td>\n",
       "      <td>-0.272394</td>\n",
       "      <td>-0.730062</td>\n",
       "    </tr>\n",
       "    <tr>\n",
       "      <th>2</th>\n",
       "      <td>1.042561</td>\n",
       "      <td>-0.315421</td>\n",
       "      <td>-0.074574</td>\n",
       "      <td>-0.276949</td>\n",
       "      <td>0.260028</td>\n",
       "      <td>1.369746</td>\n",
       "    </tr>\n",
       "    <tr>\n",
       "      <th>3</th>\n",
       "      <td>-0.315427</td>\n",
       "      <td>-0.321117</td>\n",
       "      <td>-0.074574</td>\n",
       "      <td>-0.157180</td>\n",
       "      <td>-0.193596</td>\n",
       "      <td>-0.730062</td>\n",
       "    </tr>\n",
       "    <tr>\n",
       "      <th>4</th>\n",
       "      <td>-0.363627</td>\n",
       "      <td>-0.321117</td>\n",
       "      <td>-0.074574</td>\n",
       "      <td>0.216919</td>\n",
       "      <td>0.119410</td>\n",
       "      <td>-0.730062</td>\n",
       "    </tr>\n",
       "  </tbody>\n",
       "</table>\n",
       "</div>"
      ],
      "text/plain": [
       "     amount  oldbalanceOrg  newbalanceOrig  oldbalanceDest  newbalanceDest  \\\n",
       "0 -0.363990      -0.318615       -0.074574       -0.276949       -0.320205   \n",
       "1 -0.399606      -0.321117       -0.074574       -0.206708       -0.272394   \n",
       "2  1.042561      -0.315421       -0.074574       -0.276949        0.260028   \n",
       "3 -0.315427      -0.321117       -0.074574       -0.157180       -0.193596   \n",
       "4 -0.363627      -0.321117       -0.074574        0.216919        0.119410   \n",
       "\n",
       "   TRANSFER  \n",
       "0 -0.730062  \n",
       "1 -0.730062  \n",
       "2  1.369746  \n",
       "3 -0.730062  \n",
       "4 -0.730062  "
      ]
     },
     "execution_count": 176,
     "metadata": {},
     "output_type": "execute_result"
    }
   ],
   "source": [
    "df_feat.head()"
   ]
  },
  {
   "cell_type": "code",
   "execution_count": 177,
   "id": "25146502",
   "metadata": {},
   "outputs": [],
   "source": [
    "# Defining of dependent and independent variables,respectively\n",
    "x1=df_feat[['amount', 'oldbalanceOrg', 'newbalanceOrig', 'oldbalanceDest','newbalanceDest', 'TRANSFER']] \n",
    "y1=under_sample['isFraud']"
   ]
  },
  {
   "cell_type": "code",
   "execution_count": 178,
   "id": "afba1ef1",
   "metadata": {},
   "outputs": [],
   "source": [
    "#30% of the data is used for testing and remaining 705 is used for training\n",
    "x1_train, x1_test, y1_train, y1_test = train_test_split(x1, y1, test_size=0.3, random_state=101)"
   ]
  },
  {
   "cell_type": "code",
   "execution_count": 179,
   "id": "f2477b5a",
   "metadata": {},
   "outputs": [],
   "source": [
    "from sklearn.neighbors import KNeighborsClassifier "
   ]
  },
  {
   "cell_type": "code",
   "execution_count": 180,
   "id": "952c7f10",
   "metadata": {},
   "outputs": [
    {
     "data": {
      "text/plain": [
       "array([0, 1, 0, ..., 1, 1, 0], dtype=int64)"
      ]
     },
     "execution_count": 180,
     "metadata": {},
     "output_type": "execute_result"
    }
   ],
   "source": [
    "#creating object with 1 neighbour hence predicting the results\n",
    "Knn=KNeighborsClassifier(n_neighbors=1) \n",
    "Knn.fit(x1_train,y1_train)\n",
    "pred=Knn.predict(x1_test) \n",
    "pred"
   ]
  },
  {
   "cell_type": "code",
   "execution_count": 181,
   "id": "9d802b8d",
   "metadata": {},
   "outputs": [
    {
     "name": "stdout",
     "output_type": "stream",
     "text": [
      "[[2390   94]\n",
      " [  86 2358]]\n"
     ]
    }
   ],
   "source": [
    "#printing the confuusion matrix \n",
    "print(confusion_matrix(y1_test,pred))"
   ]
  },
  {
   "cell_type": "code",
   "execution_count": 182,
   "id": "8e97bdc2",
   "metadata": {},
   "outputs": [
    {
     "name": "stdout",
     "output_type": "stream",
     "text": [
      "              precision    recall  f1-score   support\n",
      "\n",
      "           0       0.97      0.96      0.96      2484\n",
      "           1       0.96      0.96      0.96      2444\n",
      "\n",
      "    accuracy                           0.96      4928\n",
      "   macro avg       0.96      0.96      0.96      4928\n",
      "weighted avg       0.96      0.96      0.96      4928\n",
      "\n"
     ]
    }
   ],
   "source": [
    "#printing the classification report \n",
    "print(classification_report(y1_test,pred))"
   ]
  },
  {
   "cell_type": "code",
   "execution_count": 183,
   "id": "09cc7c93",
   "metadata": {},
   "outputs": [
    {
     "data": {
      "text/plain": [
       "[<matplotlib.lines.Line2D at 0x2b52e349220>]"
      ]
     },
     "execution_count": 183,
     "metadata": {},
     "output_type": "execute_result"
    },
    {
     "data": {
      "image/png": "[encoded data removed]",
      "text/plain": [
       "<Figure size 720x432 with 1 Axes>"
      ]
     },
     "metadata": {
      "needs_background": "light"
     },
     "output_type": "display_data"
    }
   ],
   "source": [
    "#we find that our knn model is 96% accurate. Hence it can be accepted.\n",
    " \n",
    "#calculating the error rate for different values of 'n-neighbours' \n",
    "error_rate=[]\n",
    "for i in range(1,30): \n",
    "    Knn=KNeighborsClassifier(n_neighbors=i) \n",
    "    Knn.fit(x1_train,y1_train) \n",
    "    pred_i=Knn.predict(x1_test) \n",
    "    error_rate.append(np.mean(pred_i!=y1_test))\n",
    "plt.figure(figsize=(10,6)) \n",
    "plt.plot(range(1,30),error_rate,linestyle='dashed',marker='o',markersize=10)"
   ]
  },
  {
   "cell_type": "code",
   "execution_count": 184,
   "id": "6703f461",
   "metadata": {},
   "outputs": [
    {
     "data": {
      "text/plain": [
       "0.9345100516292527"
      ]
     },
     "execution_count": 184,
     "metadata": {},
     "output_type": "execute_result"
    }
   ],
   "source": [
    "# the graph shows that knn has least error when number of neighbours selected is 1 which we have already selected \n",
    "#Performing cross-validation on our selected model\n",
    "from sklearn.model_selection import cross_val_score \n",
    "accuracies=cross_val_score(estimator=Knn,X=x1_train,y=y1_train) \n",
    "accuracies.mean()"
   ]
  },
  {
   "cell_type": "code",
   "execution_count": 185,
   "id": "6495bdb6",
   "metadata": {},
   "outputs": [
    {
     "data": {
      "text/plain": [
       "<Figure size 432x288 with 0 Axes>"
      ]
     },
     "execution_count": 185,
     "metadata": {},
     "output_type": "execute_result"
    },
    {
     "data": {
      "text/plain": [
       "<Figure size 432x288 with 0 Axes>"
      ]
     },
     "metadata": {},
     "output_type": "display_data"
    }
   ],
   "source": [
    "fpr1, tpr1,_=roc_curve(pred,y1_test,drop_intermediate=False) \n",
    "plt.figure()"
   ]
  },
  {
   "cell_type": "code",
   "execution_count": 186,
   "id": "3d27b472",
   "metadata": {},
   "outputs": [
    {
     "data": {
      "image/png": "[encoded data removed]",
      "text/plain": [
       "<Figure size 432x288 with 1 Axes>"
      ]
     },
     "metadata": {
      "needs_background": "light"
     },
     "output_type": "display_data"
    }
   ],
   "source": [
    "#plotting the ROC curve \n",
    "plt.plot(fpr1, tpr1, color='red', lw=2, label='ROC curve')\n",
    "##Random FPR and TPR\n",
    "plt.plot([0, 1], [0, 1], color='blue', lw=2, linestyle='--') \n",
    "##Title and label\n",
    "plt.xlabel('False Positive') \n",
    "plt.ylabel('True Positive') \n",
    "plt.title('ROC curve') \n",
    "plt.show()"
   ]
  },
  {
   "cell_type": "code",
   "execution_count": 187,
   "id": "d62e01b2",
   "metadata": {},
   "outputs": [
    {
     "data": {
      "text/plain": [
       "0.9634652533818951"
      ]
     },
     "execution_count": 187,
     "metadata": {},
     "output_type": "execute_result"
    }
   ],
   "source": [
    "#Finding area under ROC curve \n",
    "metrics.auc(fpr1,tpr1)"
   ]
  },
  {
   "cell_type": "markdown",
   "id": "7a4682bc",
   "metadata": {},
   "source": [
    "# Support Vector Machine"
   ]
  },
  {
   "cell_type": "code",
   "execution_count": 188,
   "id": "e0aaa373",
   "metadata": {},
   "outputs": [],
   "source": [
    "from sklearn.svm import SVC \n",
    "#Creating SVM object\n",
    "model = SVC()"
   ]
  },
  {
   "cell_type": "code",
   "execution_count": 189,
   "id": "8e0b9ea1",
   "metadata": {},
   "outputs": [
    {
     "data": {
      "text/plain": [
       "SVC()"
      ]
     },
     "execution_count": 189,
     "metadata": {},
     "output_type": "execute_result"
    }
   ],
   "source": [
    "#Training of model \n",
    "model.fit(x_train,y_train)"
   ]
  },
  {
   "cell_type": "code",
   "execution_count": 190,
   "id": "ec8bb643",
   "metadata": {},
   "outputs": [],
   "source": [
    "#Prediction using SVM\n",
    "pred = model.predict(x_test)"
   ]
  },
  {
   "cell_type": "code",
   "execution_count": 191,
   "id": "8669549a",
   "metadata": {},
   "outputs": [
    {
     "name": "stdout",
     "output_type": "stream",
     "text": [
      "[[2346  138]\n",
      " [ 463 1981]]\n"
     ]
    }
   ],
   "source": [
    "#Confusion matrix display \n",
    "print(confusion_matrix(y_test,pred))"
   ]
  },
  {
   "cell_type": "code",
   "execution_count": 192,
   "id": "8075147c",
   "metadata": {},
   "outputs": [
    {
     "name": "stdout",
     "output_type": "stream",
     "text": [
      "              precision    recall  f1-score   support\n",
      "\n",
      "           0       0.84      0.94      0.89      2484\n",
      "           1       0.93      0.81      0.87      2444\n",
      "\n",
      "    accuracy                           0.88      4928\n",
      "   macro avg       0.89      0.88      0.88      4928\n",
      "weighted avg       0.88      0.88      0.88      4928\n",
      "\n"
     ]
    }
   ],
   "source": [
    "#Classification report of our SVM model \n",
    "print(classification_report(y_test,pred))"
   ]
  },
  {
   "cell_type": "code",
   "execution_count": 193,
   "id": "4b5c75c2",
   "metadata": {},
   "outputs": [
    {
     "data": {
      "text/plain": [
       "0.8688464928040547"
      ]
     },
     "execution_count": 193,
     "metadata": {},
     "output_type": "execute_result"
    }
   ],
   "source": [
    "#Cross-validation of our SVM model\n",
    "from sklearn.model_selection import cross_val_score \n",
    "accuracies=cross_val_score(estimator=model,X=x_train,y=y_train) \n",
    "accuracies.mean()"
   ]
  },
  {
   "cell_type": "code",
   "execution_count": 194,
   "id": "95d5266b",
   "metadata": {},
   "outputs": [],
   "source": [
    "#We find that SVM has very low accuracy hence we discard this model."
   ]
  },
  {
   "cell_type": "markdown",
   "id": "5fc302dc",
   "metadata": {},
   "source": [
    "# GAUSSIAN NAIVE CLASSIFIER"
   ]
  },
  {
   "cell_type": "code",
   "execution_count": 195,
   "id": "bb6fe575",
   "metadata": {},
   "outputs": [],
   "source": [
    "from sklearn.naive_bayes import GaussianNB"
   ]
  },
  {
   "cell_type": "code",
   "execution_count": 196,
   "id": "a48b9840",
   "metadata": {},
   "outputs": [],
   "source": [
    "#creating an object\n",
    "model=GaussianNB()"
   ]
  },
  {
   "cell_type": "code",
   "execution_count": 197,
   "id": "24c9db55",
   "metadata": {},
   "outputs": [],
   "source": [
    "#providing data to train the machine\n",
    "model.fit(x_train,y_train) \n",
    "predicted=model.predict(x_test)"
   ]
  },
  {
   "cell_type": "code",
   "execution_count": 198,
   "id": "45324c0b",
   "metadata": {},
   "outputs": [
    {
     "name": "stdout",
     "output_type": "stream",
     "text": [
      "[0 1 0 ... 1 0 0]\n"
     ]
    }
   ],
   "source": [
    "#displaying the predicted values after prediction \n",
    "print(predicted)"
   ]
  },
  {
   "cell_type": "code",
   "execution_count": 199,
   "id": "8a0399c7",
   "metadata": {},
   "outputs": [
    {
     "name": "stdout",
     "output_type": "stream",
     "text": [
      "[[2425   59]\n",
      " [1255 1189]]\n",
      "              precision    recall  f1-score   support\n",
      "\n",
      "           0       0.66      0.98      0.79      2484\n",
      "           1       0.95      0.49      0.64      2444\n",
      "\n",
      "    accuracy                           0.73      4928\n",
      "   macro avg       0.81      0.73      0.72      4928\n",
      "weighted avg       0.80      0.73      0.72      4928\n",
      "\n"
     ]
    }
   ],
   "source": [
    "#printing the confusion matrix and classification report \n",
    "print(confusion_matrix(y_test,predicted)) \n",
    "print(classification_report(y_test,predicted))"
   ]
  },
  {
   "cell_type": "code",
   "execution_count": 200,
   "id": "8bccb0dc",
   "metadata": {},
   "outputs": [
    {
     "data": {
      "text/plain": [
       "0.7208196758515044"
      ]
     },
     "execution_count": 200,
     "metadata": {},
     "output_type": "execute_result"
    }
   ],
   "source": [
    "#Cross-Validation of our model\n",
    "from sklearn.model_selection import cross_val_score \n",
    "accuracies=cross_val_score(estimator=model,X=x_train,y=y_train) \n",
    "accuracies.mean()"
   ]
  },
  {
   "cell_type": "code",
   "execution_count": 201,
   "id": "aa5c5ce2",
   "metadata": {},
   "outputs": [
    {
     "data": {
      "text/plain": [
       "<Figure size 432x288 with 0 Axes>"
      ]
     },
     "execution_count": 201,
     "metadata": {},
     "output_type": "execute_result"
    },
    {
     "data": {
      "text/plain": [
       "<Figure size 432x288 with 0 Axes>"
      ]
     },
     "metadata": {},
     "output_type": "display_data"
    }
   ],
   "source": [
    "fpr1, tpr1,_=roc_curve(predicted,y_test,drop_intermediate=False) \n",
    "plt.figure()"
   ]
  },
  {
   "cell_type": "code",
   "execution_count": 202,
   "id": "ace543f0",
   "metadata": {},
   "outputs": [
    {
     "data": {
      "image/png": "[encoded data removed]",
      "text/plain": [
       "<Figure size 432x288 with 1 Axes>"
      ]
     },
     "metadata": {
      "needs_background": "light"
     },
     "output_type": "display_data"
    }
   ],
   "source": [
    "#plotting the ROC curve \n",
    "plt.plot(fpr1, tpr1, color='red', lw=2, label='ROC curve')\n",
    "##Random FPR and TPR\n",
    "plt.plot([0, 1], [0, 1], color='blue', lw=2, linestyle='--')\n",
    "##Title and label\n",
    "plt.xlabel('False Positive')\n",
    "plt.ylabel('True Positive') \n",
    "plt.title('ROC curve') \n",
    "plt.show()"
   ]
  },
  {
   "cell_type": "code",
   "execution_count": 203,
   "id": "ad9cca43",
   "metadata": {},
   "outputs": [
    {
     "data": {
      "text/plain": [
       "0.8058458751393535"
      ]
     },
     "execution_count": 203,
     "metadata": {},
     "output_type": "execute_result"
    }
   ],
   "source": [
    "#Calculating the area under above ROC curve \n",
    "metrics.auc(fpr1,tpr1)"
   ]
  },
  {
   "cell_type": "code",
   "execution_count": 204,
   "id": "0c3d368f",
   "metadata": {},
   "outputs": [],
   "source": [
    "#we find from our classification report, our accuracy is 80% and our cross validation score is approx 0.72 \n",
    "#As, both are quite less we don't prefer this model."
   ]
  },
  {
   "cell_type": "markdown",
   "id": "fe8b5269",
   "metadata": {},
   "source": [
    "# Decision Tree"
   ]
  },
  {
   "cell_type": "code",
   "execution_count": 205,
   "id": "16859a67",
   "metadata": {},
   "outputs": [
    {
     "data": {
      "text/plain": [
       "DecisionTreeClassifier()"
      ]
     },
     "execution_count": 205,
     "metadata": {},
     "output_type": "execute_result"
    }
   ],
   "source": [
    "from sklearn.tree import DecisionTreeClassifier\n",
    "#creating object and providing training data \n",
    "dtree=DecisionTreeClassifier() \n",
    "dtree.fit(x_train,y_train)"
   ]
  },
  {
   "cell_type": "code",
   "execution_count": 206,
   "id": "caa03c24",
   "metadata": {},
   "outputs": [],
   "source": [
    "#Predicting frim our model \n",
    "pre=dtree.predict(x_test)"
   ]
  },
  {
   "cell_type": "code",
   "execution_count": 207,
   "id": "c1b6e3fc",
   "metadata": {},
   "outputs": [
    {
     "name": "stdout",
     "output_type": "stream",
     "text": [
      "[[2457   27]\n",
      " [  27 2417]]\n",
      "              precision    recall  f1-score   support\n",
      "\n",
      "           0       0.99      0.99      0.99      2484\n",
      "           1       0.99      0.99      0.99      2444\n",
      "\n",
      "    accuracy                           0.99      4928\n",
      "   macro avg       0.99      0.99      0.99      4928\n",
      "weighted avg       0.99      0.99      0.99      4928\n",
      "\n"
     ]
    }
   ],
   "source": [
    "#displaying the classification report and confusion matrix \n",
    "print(confusion_matrix(y_test,pre)) \n",
    "print(classification_report(y_test,pre))"
   ]
  },
  {
   "cell_type": "code",
   "execution_count": 208,
   "id": "919c11ec",
   "metadata": {},
   "outputs": [
    {
     "data": {
      "text/plain": [
       "0.984779581488629"
      ]
     },
     "execution_count": 208,
     "metadata": {},
     "output_type": "execute_result"
    }
   ],
   "source": [
    "#We find that our accuracy is quite high, to be 99%. we further cross-validate our model. \n",
    "#Cross-validation of our model\n",
    "from sklearn.model_selection import cross_val_score\n",
    "accuracies=cross_val_score(estimator=dtree,X=x_train,y=y_train,cv=10) \n",
    "accuracies.mean()"
   ]
  },
  {
   "cell_type": "code",
   "execution_count": 209,
   "id": "5799b7f3",
   "metadata": {},
   "outputs": [
    {
     "data": {
      "text/plain": [
       "<Figure size 432x288 with 0 Axes>"
      ]
     },
     "execution_count": 209,
     "metadata": {},
     "output_type": "execute_result"
    },
    {
     "data": {
      "text/plain": [
       "<Figure size 432x288 with 0 Axes>"
      ]
     },
     "metadata": {},
     "output_type": "display_data"
    }
   ],
   "source": [
    "fpr1, tpr1,_=roc_curve(pre,y_test,drop_intermediate=False) \n",
    "plt.figure()"
   ]
  },
  {
   "cell_type": "code",
   "execution_count": 210,
   "id": "d3922845",
   "metadata": {},
   "outputs": [
    {
     "data": {
      "image/png": "[encoded data removed]",
      "text/plain": [
       "<Figure size 432x288 with 1 Axes>"
      ]
     },
     "metadata": {
      "needs_background": "light"
     },
     "output_type": "display_data"
    }
   ],
   "source": [
    "#plotting the ROC curve \n",
    "plt.plot(fpr1, tpr1, color='red', lw=2, label='ROC curve')\n",
    "\n",
    "##Random FPR and TPR\n",
    "plt.plot([0, 1], [0, 1], color='blue', lw=2, linestyle='--') \n",
    "##Title and label\n",
    "plt.xlabel('False Positive') \n",
    "plt.ylabel('True Positive') \n",
    "plt.title('ROC curve') \n",
    "plt.show()"
   ]
  },
  {
   "cell_type": "code",
   "execution_count": 211,
   "id": "c36e50e1",
   "metadata": {},
   "outputs": [
    {
     "data": {
      "text/plain": [
       "0.989041485803743"
      ]
     },
     "execution_count": 211,
     "metadata": {},
     "output_type": "execute_result"
    }
   ],
   "source": [
    "#Finding area under ROC curve \n",
    "metrics.auc(fpr1,tpr1)"
   ]
  },
  {
   "cell_type": "markdown",
   "id": "5a236ef3",
   "metadata": {},
   "source": [
    "# Random Forest Classifier"
   ]
  },
  {
   "cell_type": "code",
   "execution_count": 212,
   "id": "62adf3d4",
   "metadata": {},
   "outputs": [
    {
     "data": {
      "text/plain": [
       "RandomForestClassifier(n_estimators=1000)"
      ]
     },
     "execution_count": 212,
     "metadata": {},
     "output_type": "execute_result"
    }
   ],
   "source": [
    "from sklearn.ensemble import RandomForestClassifier\n",
    "#creating an object for random forest having 1000 as parameter for n_estimators \n",
    "rfc=RandomForestClassifier(n_estimators=1000)\n",
    "rfc.fit(x_train,y_train)"
   ]
  },
  {
   "cell_type": "code",
   "execution_count": 213,
   "id": "f8044e3b",
   "metadata": {},
   "outputs": [
    {
     "name": "stdout",
     "output_type": "stream",
     "text": [
      "[[2442   42]\n",
      " [  12 2432]]\n",
      "              precision    recall  f1-score   support\n",
      "\n",
      "           0       1.00      0.98      0.99      2484\n",
      "           1       0.98      1.00      0.99      2444\n",
      "\n",
      "    accuracy                           0.99      4928\n",
      "   macro avg       0.99      0.99      0.99      4928\n",
      "weighted avg       0.99      0.99      0.99      4928\n",
      "\n"
     ]
    }
   ],
   "source": [
    "#prediction using this model \n",
    "rfc_pred=rfc.predict(x_test)\n",
    "#displaying the confusion matrix and classification report \n",
    "print(confusion_matrix(y_test,rfc_pred)) \n",
    "print(classification_report(y_test,rfc_pred))"
   ]
  },
  {
   "cell_type": "code",
   "execution_count": 214,
   "id": "6d1de919",
   "metadata": {},
   "outputs": [
    {
     "data": {
      "text/plain": [
       "0.9866060468460287"
      ]
     },
     "execution_count": 214,
     "metadata": {},
     "output_type": "execute_result"
    }
   ],
   "source": [
    "#we find that our model has 99% accuracy \n",
    "#cross-validation of our model\n",
    "from sklearn.model_selection import cross_val_score\n",
    "accuracies=cross_val_score(estimator=rfc,X=x_train,y=y_train,cv=10) \n",
    "accuracies.mean()"
   ]
  },
  {
   "cell_type": "code",
   "execution_count": 215,
   "id": "091133ef",
   "metadata": {},
   "outputs": [
    {
     "data": {
      "text/plain": [
       "<Figure size 432x288 with 0 Axes>"
      ]
     },
     "execution_count": 215,
     "metadata": {},
     "output_type": "execute_result"
    },
    {
     "data": {
      "text/plain": [
       "<Figure size 432x288 with 0 Axes>"
      ]
     },
     "metadata": {},
     "output_type": "display_data"
    }
   ],
   "source": [
    "fpr1, tpr1,_=roc_curve(rfc_pred,y_test,drop_intermediate=False) \n",
    "plt.figure()"
   ]
  },
  {
   "cell_type": "code",
   "execution_count": 216,
   "id": "509c588e",
   "metadata": {},
   "outputs": [
    {
     "data": {
      "image/png": "[encoded data removed]",
      "text/plain": [
       "<Figure size 432x288 with 1 Axes>"
      ]
     },
     "metadata": {
      "needs_background": "light"
     },
     "output_type": "display_data"
    }
   ],
   "source": [
    "#plotting the ROC curve \n",
    "plt.plot(fpr1, tpr1, color='red', lw=2, label='ROC curve')\n",
    "\n",
    "##Random FPR and TPR\n",
    "plt.plot([0, 1], [0, 1], color='blue', lw=2, linestyle='--') \n",
    "##Title and label\n",
    "plt.xlabel('False Positive') \n",
    "plt.ylabel('True Positive') \n",
    "plt.title('ROC curve') \n",
    "plt.show()"
   ]
  },
  {
   "cell_type": "code",
   "execution_count": 217,
   "id": "ae203160",
   "metadata": {},
   "outputs": [
    {
     "data": {
      "text/plain": [
       "0.9890667341327805"
      ]
     },
     "execution_count": 217,
     "metadata": {},
     "output_type": "execute_result"
    }
   ],
   "source": [
    "#Finding area under ROC curve \n",
    "metrics.auc(fpr1,tpr1)"
   ]
  },
  {
   "cell_type": "markdown",
   "id": "ef78483b",
   "metadata": {},
   "source": [
    "# We finally find that the 'Decision Tree' or the 'Random Forest Classifier' model has the best accuracy. Hence we choose it."
   ]
  },
  {
   "cell_type": "code",
   "execution_count": null,
   "id": "14282388",
   "metadata": {},
   "outputs": [],
   "source": []
  }
 ],
 "metadata": {
  "kernelspec": {
   "display_name": "Python 3 (ipykernel)",
   "language": "python",
   "name": "python3"
  },
  "language_info": {
   "codemirror_mode": {
    "name": "ipython",
    "version": 3
   },
   "file_extension": ".py",
   "mimetype": "text/x-python",
   "name": "python",
   "nbconvert_exporter": "python",
   "pygments_lexer": "ipython3",
   "version": "3.9.6"
  }
 },
 "nbformat": 4,
 "nbformat_minor": 5
}
